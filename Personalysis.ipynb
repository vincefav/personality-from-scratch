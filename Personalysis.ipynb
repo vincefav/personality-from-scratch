{
 "cells": [
  {
   "cell_type": "markdown",
   "metadata": {},
   "source": [
    "This is a technique I'm experimenting with. Let's say you have a bunch of psychometric data, and you want to figure out which questions correlate together. The goal is to combine them in order to create new factors. What if we tried doing this manually, and let the *data* tell us how many factors we need?\n",
    "\n",
    "Let's walk through how we might do it."
   ]
  },
  {
   "cell_type": "code",
   "execution_count": 1,
   "metadata": {
    "collapsed": false
   },
   "outputs": [
    {
     "name": "stdout",
     "output_type": "stream",
     "text": [
      "Populating the interactive namespace from numpy and matplotlib\n"
     ]
    }
   ],
   "source": [
    "import pandas as pd\n",
    "import numpy as np\n",
    "import seaborn as sns\n",
    "\n",
    "pd.set_option('display.float_format', lambda x: '{:.3f}'.format(x))\n",
    "\n",
    "%pylab inline"
   ]
  },
  {
   "cell_type": "code",
   "execution_count": 2,
   "metadata": {
    "collapsed": false
   },
   "outputs": [
    {
     "data": {
      "text/plain": [
       "(86, 512)"
      ]
     },
     "execution_count": 2,
     "metadata": {},
     "output_type": "execute_result"
    }
   ],
   "source": [
    "# Responses to a personality test\n",
    "# Pre-wrangled, because getting it nice and tidy isn't the interesting part here\n",
    "data = pd.read_csv('Personality_AB5C_prewrangled.csv')\n",
    "del data['Unnamed: 0']\n",
    "def absolute_correlations(col, df=data, threshold=.5):\n",
    "    '''Finds related questions, with both positive and negative correlations'''\n",
    "    corrs = pd.DataFrame(df.select_dtypes(include=[np.number]).corrwith(df[col]), columns=['correlation'])\n",
    "    corrs['absol'] = np.abs(corrs['correlation'])\n",
    "    return corrs[corrs.absol > threshold].sort_values('absol', ascending=False).drop('absol', axis=1)\n",
    "\n",
    "def rev(item):\n",
    "    '''Questions are scored out of 7, and many need to be reverse-scored'''\n",
    "    return 8 - item\n",
    "\n",
    "data.shape"
   ]
  },
  {
   "cell_type": "code",
   "execution_count": 3,
   "metadata": {
    "collapsed": false
   },
   "outputs": [
    {
     "name": "stdout",
     "output_type": "stream",
     "text": [
      "iinsultpeople\n",
      "iseldomnoticedetails\n",
      "iseldomgetlostinthought\n",
      "iusemybrain\n",
      "ifollowdirections\n",
      "itrytooutdoothers\n",
      "iseldomgetlostinthought\n",
      "iprefervarietytoroutine\n",
      "iamquicktojudgeothers\n",
      "iampreciseinmywork\n",
      "idontmindeatingalone\n",
      "iamdeeplymovedbyothersmisfortunes\n",
      "ispendtimereflectingonthings\n",
      "isenseotherswishes\n",
      "icantcomeupwithnewideas\n",
      "iameasilyfrightened\n",
      "ispendtimereflectingonthings\n",
      "isticktotherules\n",
      "iretreatfromothers\n",
      "iamnotasstrictasishouldbe\n",
      "idontgetexcitedaboutthings\n",
      "igeteasilyagitated\n",
      "iseekdanger\n",
      "idontmindeatingalone\n",
      "itaketimeoutforothers\n",
      "ineversplurge\n",
      "igetaheadstartonothers\n",
      "iamnotsurewheremylifeisgoing\n",
      "imakewellconsidereddecisions\n",
      "ihavecryingfits\n"
     ]
    }
   ],
   "source": [
    "from random import choice\n",
    "\n",
    "# 30 sample questions out of 500+ total (no need to see all of them!)\n",
    "for i in range(30):\n",
    "    print(choice(data.columns))"
   ]
  },
  {
   "cell_type": "markdown",
   "metadata": {},
   "source": [
    "Okay, here's the rationale. Let's look at the questions with the highest standard deviations *first*. These controversial ones well probably tell us more about someone than the questions that everyone answers similarly."
   ]
  },
  {
   "cell_type": "code",
   "execution_count": 4,
   "metadata": {
    "collapsed": false
   },
   "outputs": [
    {
     "data": {
      "text/plain": [
       "Index(['icryduringmovies', 'icryeasily', 'iburstintotears',\n",
       "       'iameasilymovedtotears', 'iloveagoodfight', 'iwouldntharmafly',\n",
       "       'itrytooutdoothers', 'idontcallpeoplejusttotalk', 'idonotlikepoetry',\n",
       "       'idontmindeatingalone',\n",
       "       ...\n",
       "       'itakeothersinterestsintoaccount', 'ishowmygratitude',\n",
       "       'irespecttheprivacyofothers', 'ienjoythebeautyofnature',\n",
       "       'ilikeharmonyinmylife', 'ilovebeautifulthings',\n",
       "       'irespectothersfeelings', 'ilikemusic', 'irespectothers',\n",
       "       'iappreciategoodmanners'],\n",
       "      dtype='object', length=512)"
      ]
     },
     "execution_count": 4,
     "metadata": {},
     "output_type": "execute_result"
    }
   ],
   "source": [
    "# Transpose the dataframe, so we're analyzing questions instead of users\n",
    "qs = data.select_dtypes(include=[np.number]).fillna(data.mean()).T\n",
    "\n",
    "qs['stdev'] = qs.std(axis=1)\n",
    "\n",
    "questions_sorted = qs.sort_values('stdev', ascending=False)['stdev'].index\n",
    "\n",
    "# Most controversial at top; least controversial at bottom\n",
    "questions_sorted"
   ]
  },
  {
   "cell_type": "markdown",
   "metadata": {},
   "source": [
    "So apparently there are two types of people in the world: those who cry during movies and those who don't.\n",
    "\n",
    "On the other hand, just about everyone appreciates good manners!"
   ]
  },
  {
   "cell_type": "markdown",
   "metadata": {},
   "source": [
    "Here's where things get interesting. We're going to iterate over each question and see if there are at least 3 other questions that have a correlation of ±0.5 (I'd go higher, but we don't have enough data currently).\n",
    "\n",
    "If there are 3 or more related questions, we'll group them all together and score them from 1-100. As a matter of personal preference, I'll use each question only once. Priority will go to the factor with the highest standard deviation."
   ]
  },
  {
   "cell_type": "code",
   "execution_count": 5,
   "metadata": {
    "collapsed": false
   },
   "outputs": [
    {
     "name": "stdout",
     "output_type": "stream",
     "text": [
      "found 41 personality traits\n"
     ]
    }
   ],
   "source": [
    "from collections import defaultdict\n",
    "\n",
    "# Record which questions go in each factor\n",
    "factors = defaultdict(list)\n",
    "\n",
    "# Use each question only once\n",
    "questions_used = []\n",
    "\n",
    "# Put users' scores in a dataframe\n",
    "df_factors = pd.DataFrame()\n",
    "\n",
    "for question in questions_sorted:\n",
    "    if question not in questions_used:\n",
    "        related = absolute_correlations(\n",
    "            question,\n",
    "            df=data[[i for i in data.columns if i not in questions_used]],\n",
    "            threshold=.50\n",
    "        )        \n",
    "        if len(related) >= 4:\n",
    "            for related_question in related.index:\n",
    "                questions_used.append(related_question)\n",
    "            factors[question].append(related.index)\n",
    "            \n",
    "            pos_items = related[related['correlation'] > 0].index\n",
    "            neg_items = related[related['correlation'] < 0].index\n",
    "            all_items = list(pos_items) + list(neg_items)   \n",
    "\n",
    "            df_factors[question] = (data[pos_items].sum(axis=1) + (8-data[neg_items]).sum(axis=1))/(.07*len(all_items))\n",
    "            \n",
    "print('found', str(df_factors.shape[1]), 'personality traits')"
   ]
  },
  {
   "cell_type": "markdown",
   "metadata": {},
   "source": [
    "We ended up with 41 factors, which isn't far off from the [AB5C personality test](http://ipip.ori.org/newab5ckey.htm) that purports to have 45. So the technique seems to work!\n",
    "\n",
    "But I think there's a way we can improve this further. Perhaps we should prioritize factors that are orthagonal to the ones we've already discovered. So if the 1st factor is the \"cry during movies\" factor, the 2nd one should be one that has a near-zero correlation with the 1st."
   ]
  },
  {
   "cell_type": "code",
   "execution_count": null,
   "metadata": {
    "collapsed": true
   },
   "outputs": [],
   "source": [
    "# TODO: Find factors orthogonally"
   ]
  }
 ],
 "metadata": {
  "anaconda-cloud": {},
  "kernelspec": {
   "display_name": "Python [default]",
   "language": "python",
   "name": "python3"
  },
  "language_info": {
   "codemirror_mode": {
    "name": "ipython",
    "version": 3
   },
   "file_extension": ".py",
   "mimetype": "text/x-python",
   "name": "python",
   "nbconvert_exporter": "python",
   "pygments_lexer": "ipython3",
   "version": "3.5.2"
  }
 },
 "nbformat": 4,
 "nbformat_minor": 2
}
