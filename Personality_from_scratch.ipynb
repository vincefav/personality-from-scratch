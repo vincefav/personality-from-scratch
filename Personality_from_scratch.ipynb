{
 "cells": [
  {
   "cell_type": "markdown",
   "metadata": {},
   "source": [
    "This is a technique I'm experimenting with. Let's say you have a bunch of psychometric data, and you want to figure out which questions correlate together. The goal is to combine them in order to create new factors. What if we tried doing this manually, and let the *data* tell us how many factors we need?\n",
    "\n",
    "Let's walk through how we might do it."
   ]
  },
  {
   "cell_type": "code",
   "execution_count": 1,
   "metadata": {
    "collapsed": false
   },
   "outputs": [
    {
     "name": "stdout",
     "output_type": "stream",
     "text": [
      "Populating the interactive namespace from numpy and matplotlib\n"
     ]
    }
   ],
   "source": [
    "import pandas as pd\n",
    "import numpy as np\n",
    "import seaborn as sns\n",
    "\n",
    "pd.set_option('display.float_format', lambda x: '{:.3f}'.format(x))\n",
    "\n",
    "%pylab inline"
   ]
  },
  {
   "cell_type": "code",
   "execution_count": 2,
   "metadata": {
    "collapsed": false
   },
   "outputs": [
    {
     "data": {
      "text/plain": [
       "(86, 512)"
      ]
     },
     "execution_count": 2,
     "metadata": {},
     "output_type": "execute_result"
    }
   ],
   "source": [
    "# Responses to a personality test\n",
    "# Pre-wrangled, because getting it nice and tidy isn't the interesting part here\n",
    "data = pd.read_csv('Personality_AB5C_prewrangled.csv')\n",
    "del data['Unnamed: 0']\n",
    "def absolute_correlations(col, df=data, threshold=.5):\n",
    "    '''Finds related questions, with both positive and negative correlations'''\n",
    "    corrs = pd.DataFrame(df.select_dtypes(include=[np.number]).corrwith(df[col]), columns=['correlation'])\n",
    "    corrs['absol'] = np.abs(corrs['correlation'])\n",
    "    return corrs[corrs.absol > threshold].sort_values('absol', ascending=False).drop('absol', axis=1)\n",
    "\n",
    "def rev(item):\n",
    "    '''Questions are scored out of 7, and many need to be reverse-scored'''\n",
    "    return 8 - item\n",
    "\n",
    "data.shape"
   ]
  },
  {
   "cell_type": "code",
   "execution_count": 3,
   "metadata": {
    "collapsed": false
   },
   "outputs": [
    {
     "name": "stdout",
     "output_type": "stream",
     "text": [
      "ineedtounderstandmymotives\n",
      "ihaveexcellentideas\n",
      "ineverspendmorethanicanafford\n",
      "iliketoactonawhim\n",
      "iamopenaboutmyselftoothers\n",
      "idontcareaboutdressingnicely\n",
      "ihatetoseempushy\n",
      "icherishmementos\n",
      "ilistentomyconscience\n",
      "ihavedifficultyexpressingmyfeelings\n",
      "ireassureothers\n",
      "ichallengeotherspointsofview\n",
      "ifeellittleconcernforothers\n",
      "ifeelothersemotions\n",
      "iliketolaughoutloud\n",
      "iknowtheanswerstomanyquestions\n",
      "iamnotdisturbedbyevents\n",
      "idontcareaboutdressingnicely\n",
      "iamnotaveryenthusiasticperson\n",
      "ikeepmycool\n",
      "imakesurethatrulesarefollowed\n",
      "iputoffunpleasanttasks\n",
      "ilookdownonanyweakness\n",
      "ihaveexcellentideas\n",
      "igetfurious\n",
      "ikeepmyemotionsundercontrol\n",
      "igomyownway\n",
      "iamoftenlatetowork\n",
      "ispeakloudly\n",
      "idontseethingsthrough\n"
     ]
    }
   ],
   "source": [
    "from random import choice\n",
    "\n",
    "# 30 sample questions out of 500+ total (no need to see all of them!)\n",
    "for i in range(30):\n",
    "    print(choice(data.columns))"
   ]
  },
  {
   "cell_type": "markdown",
   "metadata": {},
   "source": [
    "Okay, here's the rationale. Let's look at the questions with the highest standard deviations *first*. These controversial ones well probably tell us more about someone than the questions that everyone answers similarly."
   ]
  },
  {
   "cell_type": "code",
   "execution_count": 4,
   "metadata": {
    "collapsed": false
   },
   "outputs": [
    {
     "data": {
      "text/plain": [
       "Index(['icryduringmovies', 'icryeasily', 'iburstintotears',\n",
       "       'iameasilymovedtotears', 'iloveagoodfight', 'iwouldntharmafly',\n",
       "       'itrytooutdoothers', 'idontcallpeoplejusttotalk', 'idonotlikepoetry',\n",
       "       'idontmindeatingalone',\n",
       "       ...\n",
       "       'itakeothersinterestsintoaccount', 'ishowmygratitude',\n",
       "       'irespecttheprivacyofothers', 'ienjoythebeautyofnature',\n",
       "       'ilikeharmonyinmylife', 'ilovebeautifulthings',\n",
       "       'irespectothersfeelings', 'ilikemusic', 'irespectothers',\n",
       "       'iappreciategoodmanners'],\n",
       "      dtype='object', length=512)"
      ]
     },
     "execution_count": 4,
     "metadata": {},
     "output_type": "execute_result"
    }
   ],
   "source": [
    "# Transpose the dataframe, so we're analyzing questions instead of users\n",
    "qs = data.select_dtypes(include=[np.number]).fillna(data.mean()).T\n",
    "\n",
    "qs['stdev'] = qs.std(axis=1)\n",
    "\n",
    "questions_sorted = qs.sort_values('stdev', ascending=False)['stdev'].index\n",
    "\n",
    "# Most controversial at top; least controversial at bottom\n",
    "questions_sorted"
   ]
  },
  {
   "cell_type": "markdown",
   "metadata": {},
   "source": [
    "So apparently there are two types of people in the world: those who cry during movies and those who don't.\n",
    "\n",
    "On the other hand, just about everyone appreciates good manners!"
   ]
  },
  {
   "cell_type": "markdown",
   "metadata": {},
   "source": [
    "Here's where things get interesting. We're going to iterate over each question and see if there are at least 3 other questions that have a correlation of ±0.5 (I'd go higher, but we don't have enough data currently).\n",
    "\n",
    "If there are 3 or more related questions, we'll group them all together and score them from 1-100. As a matter of personal preference, I'll use each question only once. Priority will go to the factor with the highest standard deviation."
   ]
  },
  {
   "cell_type": "code",
   "execution_count": 5,
   "metadata": {
    "collapsed": false
   },
   "outputs": [
    {
     "name": "stdout",
     "output_type": "stream",
     "text": [
      "found 41 personality traits\n"
     ]
    }
   ],
   "source": [
    "from collections import defaultdict\n",
    "\n",
    "# Record which questions go in each factor\n",
    "factors = defaultdict(list)\n",
    "\n",
    "# Use each question only once\n",
    "questions_used = []\n",
    "\n",
    "# Put users' scores in a dataframe\n",
    "df_factors = pd.DataFrame()\n",
    "\n",
    "for question in questions_sorted:\n",
    "    if question not in questions_used:\n",
    "        related = absolute_correlations(\n",
    "            question,\n",
    "            df=data[[i for i in data.columns if i not in questions_used]],\n",
    "            threshold=.50\n",
    "        )        \n",
    "        if len(related) >= 4:\n",
    "            for related_question in related.index:\n",
    "                questions_used.append(related_question)\n",
    "            factors[question].append(related.index)\n",
    "            \n",
    "            pos_items = related[related['correlation'] > 0].index\n",
    "            neg_items = related[related['correlation'] < 0].index\n",
    "            all_items = list(pos_items) + list(neg_items)   \n",
    "\n",
    "            df_factors[question] = (data[pos_items].sum(axis=1) + (8-data[neg_items]).sum(axis=1))/(.07*len(all_items))\n",
    "            \n",
    "print('found', str(df_factors.shape[1]), 'personality traits')"
   ]
  },
  {
   "cell_type": "markdown",
   "metadata": {},
   "source": [
    "We ended up with 41 factors, which isn't far off from the [AB5C personality test](http://ipip.ori.org/newab5ckey.htm) that purports to have 45. So the technique seems to work!\n",
    "\n",
    "But I think there's a way we can improve this further. Perhaps we should prioritize factors that are orthogonal to the ones we've already discovered. So if the 1st factor is the \"cry during movies\" factor, the 2nd one should be one that has a near-zero correlation with the 1st."
   ]
  },
  {
   "cell_type": "code",
   "execution_count": 6,
   "metadata": {
    "collapsed": true
   },
   "outputs": [],
   "source": [
    "def uncorrelated(col, df=data, threshold=100):\n",
    "    '''Similar to absolute_correlations, but now finds uncorrelated items'''\n",
    "    corrs = pd.DataFrame(df.select_dtypes(include=[np.number]).corrwith(df[col]), columns=['correlation'])\n",
    "    corrs['absol'] = np.abs(corrs['correlation'])\n",
    "    \n",
    "    # Default is to return all items sorted by correlation (ascending)\n",
    "    return corrs[corrs.absol < threshold].sort_values('absol', ascending=True).drop('absol', axis=1)"
   ]
  },
  {
   "cell_type": "markdown",
   "metadata": {},
   "source": [
    "Let's try this manually first so we can figure out what the code should do"
   ]
  },
  {
   "cell_type": "code",
   "execution_count": 8,
   "metadata": {
    "collapsed": false
   },
   "outputs": [
    {
     "name": "stdout",
     "output_type": "stream",
     "text": [
      "Done. Final question was: ialwaysknowwhatiamdoing\n",
      "Processed 512 questions\n"
     ]
    }
   ],
   "source": [
    "# start with the most controversial question\n",
    "questions_orth = ['icryduringmovies']\n",
    "question = 'icryduringmovies'\n",
    "\n",
    "while True:\n",
    "    unrelated = uncorrelated(\n",
    "        question, df=data[[i for i in data.columns if i not in questions_orth] + [question]]\n",
    "    )\n",
    "    try:\n",
    "        question = unrelated.index[0]\n",
    "        if question in questions_orth:\n",
    "            print('Done. Final question was:', question)\n",
    "            break\n",
    "        else:\n",
    "            questions_orth.append(unrelated.index[0])\n",
    "    except:\n",
    "        break\n",
    "\n",
    "print('Processed', str(len(questions_orth)), 'questions')"
   ]
  },
  {
   "cell_type": "markdown",
   "metadata": {},
   "source": [
    "This method isn't perfect; it's analogous to a \"greedy\" algorithm that takes the first value that works. I'm still experimenting with a method to find the question that correlates least with *all* discovered traits.\n",
    "\n",
    "But let's continue on with our orthogonal questions list!"
   ]
  },
  {
   "cell_type": "code",
   "execution_count": 9,
   "metadata": {
    "collapsed": false
   },
   "outputs": [
    {
     "name": "stdout",
     "output_type": "stream",
     "text": [
      "found 30 personality traits\n"
     ]
    }
   ],
   "source": [
    "from collections import defaultdict\n",
    "\n",
    "# Record which questions go in each factor\n",
    "factors = defaultdict(list)\n",
    "\n",
    "# Use each question only once\n",
    "questions_used = []\n",
    "# Put users' scores in a dataframe\n",
    "df_factors = pd.DataFrame()\n",
    "\n",
    "for question in questions_orth:\n",
    "    if question not in questions_used:\n",
    "        related = absolute_correlations(\n",
    "            question,\n",
    "            df=data[[i for i in data.columns if i not in questions_used]],\n",
    "            threshold=.53 # trial and error. still need more data.\n",
    "        )        \n",
    "        if len(related) >= 4:\n",
    "            for related_question in related.index:\n",
    "                questions_used.append(related_question)\n",
    "            factors[question].append(related.index)\n",
    "            \n",
    "            pos_items = related[related['correlation'] > 0].index\n",
    "            neg_items = related[related['correlation'] < 0].index\n",
    "            all_items = list(pos_items) + list(neg_items)   \n",
    "\n",
    "            df_factors[question] = (data[pos_items].sum(axis=1) + (8-data[neg_items]).sum(axis=1))/(.07*len(all_items))\n",
    "            \n",
    "print('found', str(df_factors.shape[1]), 'personality traits')"
   ]
  },
  {
   "cell_type": "code",
   "execution_count": 10,
   "metadata": {
    "collapsed": false
   },
   "outputs": [
    {
     "name": "stdout",
     "output_type": "stream",
     "text": [
      "1. ibreakrules\n",
      "- ibreakrules\n",
      "- idontcareaboutrules\n",
      "- idisregardrules\n",
      "- isticktotherules\n",
      "\n",
      "2. igetthingsdonequickly\n",
      "- igetthingsdonequickly\n",
      "- ihandletaskssmoothly\n",
      "- igetaheadstartonothers\n",
      "- ithinkquickly\n",
      "\n",
      "3. idemandtobethecenterofinterest\n",
      "- idemandtobethecenterofinterest\n",
      "- imakemyselfthecenterofattention\n",
      "- iliketoattractattention\n",
      "- idemandattention\n",
      "\n",
      "4. idonttalkalot\n",
      "- idonttalkalot\n",
      "- italktoomuch\n",
      "- iexpressmyselfeasily\n",
      "- ihavelittletosay\n",
      "\n",
      "5. iamthelifeoftheparty\n",
      "- iamthelifeoftheparty\n",
      "- ienjoybeingpartofaloudcrowd\n",
      "- iactwildandcrazy\n",
      "- ilovelargeparties\n",
      "\n",
      "6. itakegoodcareofmybelongings\n",
      "- itakegoodcareofmybelongings\n",
      "- ikeepthingstidy\n",
      "- iworkonimprovingmyself\n",
      "- iliketotidyup\n",
      "\n",
      "7. ineedacreativeoutlet\n",
      "- ineedacreativeoutlet\n",
      "- ibelieveintheimportanceofart\n",
      "- idonotenjoygoingtoartmuseums\n",
      "- idonotlikepoetry\n",
      "\n",
      "8. iameasilymovedtotears\n",
      "- iameasilymovedtotears\n",
      "- icryeasily\n",
      "- icryduringmovies\n",
      "- ihavecryingfits\n",
      "- iburstintotears\n",
      "- idontlosemyhead\n",
      "\n",
      "9. iquicklygettheideaofthings\n",
      "- iquicklygettheideaofthings\n",
      "- iknowhowtoapplymyknowledge\n",
      "- icaneasilylinkfactstogether\n",
      "- ilovetoreadchallengingmaterial\n",
      "\n",
      "10. ineglectmyduties\n",
      "- ineglectmyduties\n",
      "- iignoremyresponsibilities\n",
      "- iaccomplishmyworkontime\n",
      "- idothingsatthelastminute\n",
      "\n",
      "11. iworkaccordingtoaroutine\n",
      "- iworkaccordingtoaroutine\n",
      "- idothingsaccordingtoaplan\n",
      "- ifollowaschedule\n",
      "- iwantthingstoproceedaccordingtoplan\n",
      "- icarryoutmyplans\n",
      "- iliketoplanahead\n",
      "- ifollowthroughwithmyplans\n",
      "- idonotplanahead\n",
      "- ifollowdirections\n",
      "- imakesurethatrulesarefollowed\n",
      "- ithinkahead\n",
      "\n",
      "12. ifeelthreatenedeasily\n",
      "- ifeelthreatenedeasily\n",
      "- igetstressedouteasily\n",
      "- iameasilyfrightened\n",
      "- iamfilledwithdoubtsaboutthings\n",
      "\n",
      "13. itakecharge\n",
      "- itakecharge\n",
      "- iwaitforotherstoleadtheway\n",
      "- iautomaticallytakecharge\n",
      "- itrytoleadothers\n",
      "- iseemyselfasagoodleader\n",
      "\n",
      "14. iamapersonwhosemoodsgoupanddowneasily\n",
      "- iamapersonwhosemoodsgoupanddowneasily\n",
      "- ichangemymoodalot\n",
      "- ihavefrequentmoodswings\n",
      "- igeteasilyagitated\n",
      "\n",
      "15. imakeothersfeelgood\n",
      "- imakeothersfeelgood\n",
      "- ihavealotoffun\n",
      "- ifeelothersemotions\n",
      "- iknowhowtocomfortothers\n",
      "- iseebeautyinthingsthatothersmightnotnotice\n",
      "- imakepeoplefeelatease\n",
      "- ireassureothers\n",
      "\n",
      "16. ithinkdeeplyaboutthings\n",
      "- ithinkdeeplyaboutthings\n",
      "- ilovetoreflectonthings\n",
      "- itendtoanalyzethings\n",
      "- irarelylookforadeepermeaninginthings\n",
      "- ispendtimereflectingonthings\n",
      "- itaketimetoreflectonthings\n",
      "- ilookforhiddenmeaningsinthings\n",
      "- ienjoyexaminingmyselfandmylife\n",
      "- itrytounderstandmyself\n",
      "- iliketosolvecomplexproblems\n",
      "\n",
      "17. iamswayedbymyemotions\n",
      "- iamswayedbymyemotions\n",
      "- iamguidedbymymoods\n",
      "- iexperiencemyemotionsintensely\n",
      "- iamnoteasilyaffectedbymyemotions\n",
      "- iameasilyhurt\n",
      "- itakeoffenseeasily\n",
      "- igetoverwhelmedbyemotions\n",
      "\n",
      "18. iliketobealone\n",
      "- iliketobealone\n",
      "- ienjoyspendingtimebymyself\n",
      "- ienjoysilence\n",
      "- iprefertobealone\n",
      "- iseekquiet\n",
      "- iwanttobeleftalone\n",
      "\n",
      "19. iamaveryprivateperson\n",
      "- iamaveryprivateperson\n",
      "- ikeepinthebackground\n",
      "- ikeepmythoughtstomyself\n",
      "- ikeepothersatadistance\n",
      "\n",
      "20. iamnoteasilystirred\n",
      "- iamnoteasilystirred\n",
      "- iamnoteasilyannoyed\n",
      "- irarelygetirritated\n",
      "- iameasilyoffended\n",
      "- iameasilydisturbed\n",
      "\n",
      "21. ineedthingsexplainedonlyonce\n",
      "- ineedthingsexplainedonlyonce\n",
      "- ilearnquickly\n",
      "- icanhandlealotofinformation\n",
      "- iamquicktounderstandthings\n",
      "\n",
      "22. icanbestirredupupseteasily\n",
      "- icanbestirredupupseteasily\n",
      "- igetupseteasily\n",
      "- igetangryeasily\n",
      "- ilosemytemper\n",
      "- iworryaboutthings\n",
      "\n",
      "23. iliketolaughoutloud\n",
      "- iliketolaughoutloud\n",
      "- ilaughalot\n",
      "- iradiatejoy\n",
      "- ilaughmywaythroughlife\n",
      "\n",
      "24. itakeaninterestinotherpeopleslives\n",
      "- itakeaninterestinotherpeopleslives\n",
      "- iaminterestedinpeople\n",
      "- iamnotreallyinterestedinothers\n",
      "- itaketimeoutforothers\n",
      "\n",
      "25. ishowmyfeelings\n",
      "- ishowmyfeelings\n",
      "- iamopenaboutmyfeelings\n",
      "- iamopenaboutmyselftoothers\n",
      "- ihavedifficultyexpressingmyfeelings\n",
      "\n",
      "26. imakefriendseasily\n",
      "- imakefriendseasily\n",
      "- istartconversations\n",
      "- iwarmupquicklytoothers\n",
      "- italktoalotofdifferentpeopleatparties\n",
      "\n",
      "27. iwanteverythingtobejustright\n",
      "- iwanteverythingtobejustright\n",
      "- iwanteverythingtoaddupperfectly\n",
      "- idemandquality\n",
      "- idislikeimperfectwork\n",
      "- iexpectdedicatedworkfromothers\n",
      "\n",
      "28. icomeupwithboldplans\n",
      "- icomeupwithboldplans\n",
      "- iamfullofideas\n",
      "- iholdbackmyopinions\n",
      "- iturnplansintoactions\n",
      "\n",
      "29. ihavearichvocabulary\n",
      "- ihavearichvocabulary\n",
      "- iusedifficultwords\n",
      "- ihaveapoorvocabulary\n",
      "- ishowamasteryoflanguage\n",
      "\n",
      "30. iliketobeofservicetoothers\n",
      "- iliketobeofservicetoothers\n",
      "- iliketodothingsforothers\n",
      "- ifeelsympathyforthosewhoareworseoffthanmyself\n",
      "- igooutofmywayforothers\n",
      "\n"
     ]
    }
   ],
   "source": [
    "for num, top in enumerate(factors):\n",
    "    print(str(num+1)+'. ' + top)\n",
    "    for list_ in factors[top]:\n",
    "        for question in list_:\n",
    "            print('-', question)\n",
    "    print()"
   ]
  },
  {
   "cell_type": "markdown",
   "metadata": {
    "collapsed": true
   },
   "source": [
    "We've identified 30 traits after changing the correlation threshold and using this new method. Some of these traits are a little *too* narrow and specific, in my opinion -- the first one is just asking in several different ways if you're a rule-follower. But that seems to be an issue with the data and my correlation threshold -- not the methodology.\n",
    "\n",
    "I'll continue to gather data to improve this."
   ]
  }
 ],
 "metadata": {
  "anaconda-cloud": {},
  "kernelspec": {
   "display_name": "Python [default]",
   "language": "python",
   "name": "python3"
  },
  "language_info": {
   "codemirror_mode": {
    "name": "ipython",
    "version": 3
   },
   "file_extension": ".py",
   "mimetype": "text/x-python",
   "name": "python",
   "nbconvert_exporter": "python",
   "pygments_lexer": "ipython3",
   "version": "3.5.2"
  }
 },
 "nbformat": 4,
 "nbformat_minor": 2
}
