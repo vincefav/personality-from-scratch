{
 "cells": [
  {
   "cell_type": "markdown",
   "metadata": {},
   "source": [
    "This is a technique I'm experimenting with. Let's say you have a bunch of psychometric data, and you want to figure out which questions correlate together. The goal is to combine them in order to create new factors. What if we tried doing this manually, and let the *data* tell us how many factors we need?\n",
    "\n",
    "Let's walk through how we might do it."
   ]
  },
  {
   "cell_type": "code",
   "execution_count": 1,
   "metadata": {
    "collapsed": false
   },
   "outputs": [
    {
     "name": "stdout",
     "output_type": "stream",
     "text": [
      "Populating the interactive namespace from numpy and matplotlib\n"
     ]
    }
   ],
   "source": [
    "import pandas as pd\n",
    "import numpy as np\n",
    "import seaborn as sns\n",
    "import matplotlib.pyplot as plt\n",
    "\n",
    "pd.set_option('display.float_format', lambda x: '{:.3f}'.format(x))\n",
    "\n",
    "%pylab inline"
   ]
  },
  {
   "cell_type": "code",
   "execution_count": 2,
   "metadata": {
    "collapsed": false
   },
   "outputs": [
    {
     "data": {
      "text/plain": [
       "(86, 512)"
      ]
     },
     "execution_count": 2,
     "metadata": {},
     "output_type": "execute_result"
    }
   ],
   "source": [
    "# Responses to a personality test\n",
    "# Pre-wrangled, because getting it nice and tidy isn't the interesting part here\n",
    "data = pd.read_csv('Personality_AB5C_prewrangled.csv')\n",
    "del data['Unnamed: 0']\n",
    "def absolute_correlations(col, df=data, threshold=.5):\n",
    "    '''Finds related questions, with both positive and negative correlations'''\n",
    "    corrs = pd.DataFrame(df.select_dtypes(include=[np.number]).corrwith(df[col]), columns=['correlation'])\n",
    "    corrs['absol'] = np.abs(corrs['correlation'])\n",
    "    return corrs[corrs.absol > threshold].sort_values('absol', ascending=False).drop('absol', axis=1)\n",
    "\n",
    "def rev(item):\n",
    "    '''Questions are scored out of 7, and many need to be reverse-scored'''\n",
    "    return 8 - item\n",
    "\n",
    "data.shape"
   ]
  },
  {
   "cell_type": "code",
   "execution_count": 3,
   "metadata": {
    "collapsed": false
   },
   "outputs": [
    {
     "name": "stdout",
     "output_type": "stream",
     "text": [
      "imakedemandsonothers\n",
      "iwouldnevercheatonmytaxes\n",
      "iamguidedbymymoods\n",
      "ifinditdifficulttogetdowntowork\n",
      "iameasilymovedtotears\n",
      "idontunderstandpeoplewhogetemotional\n",
      "ithinkquickly\n",
      "ithinkquickly\n",
      "ihaveaneyefordetail\n",
      "idisclosemyintimatethoughts\n",
      "icantalkothersintodoingthings\n",
      "ilikemusic\n",
      "igetaheadstartonothers\n",
      "itendtofeelthesameeveryday\n",
      "iwanttobeleftalone\n",
      "ifeellittleconcernforothers\n",
      "iremaincalmunderpressure\n",
      "ineedthingsexplainedonlyonce\n",
      "iamabletofindoutthingsbymyself\n",
      "igetaheadstartonothers\n",
      "iseldomtakeoffense\n",
      "idontmindbeingthecenterofattention\n",
      "iseekconflict\n",
      "iamnotinterestedinotherpeoplesproblems\n",
      "imeetchallenges\n",
      "irarelygetcaughtupintheexcitement\n",
      "isticktotherules\n",
      "idonotlikeconcerts\n",
      "igetoverwhelmedbyemotions\n",
      "ishowmygratitude\n"
     ]
    }
   ],
   "source": [
    "from random import choice\n",
    "\n",
    "# 30 sample questions out of 500+ total (no need to see all of them!)\n",
    "for i in range(30):\n",
    "    print(choice(data.columns))"
   ]
  },
  {
   "cell_type": "markdown",
   "metadata": {},
   "source": [
    "Okay, here's the rationale. Let's look at the questions with the highest standard deviations *first*. These controversial ones well probably tell us more about someone than the questions that everyone answers similarly."
   ]
  },
  {
   "cell_type": "code",
   "execution_count": 4,
   "metadata": {
    "collapsed": false
   },
   "outputs": [
    {
     "data": {
      "text/plain": [
       "Index(['icryduringmovies', 'icryeasily', 'iburstintotears',\n",
       "       'iameasilymovedtotears', 'iloveagoodfight', 'iwouldntharmafly',\n",
       "       'itrytooutdoothers', 'idontcallpeoplejusttotalk', 'idonotlikepoetry',\n",
       "       'idontmindeatingalone',\n",
       "       ...\n",
       "       'itakeothersinterestsintoaccount', 'ishowmygratitude',\n",
       "       'irespecttheprivacyofothers', 'ienjoythebeautyofnature',\n",
       "       'ilikeharmonyinmylife', 'ilovebeautifulthings',\n",
       "       'irespectothersfeelings', 'ilikemusic', 'irespectothers',\n",
       "       'iappreciategoodmanners'],\n",
       "      dtype='object', length=512)"
      ]
     },
     "execution_count": 4,
     "metadata": {},
     "output_type": "execute_result"
    }
   ],
   "source": [
    "# Transpose the dataframe, so we're analyzing questions instead of users\n",
    "qs = data.select_dtypes(include=[np.number]).fillna(data.mean()).T\n",
    "\n",
    "qs['stdev'] = qs.std(axis=1)\n",
    "\n",
    "questions_sorted = qs.sort_values('stdev', ascending=False)['stdev'].index\n",
    "\n",
    "# Most controversial at top; least controversial at bottom\n",
    "questions_sorted"
   ]
  },
  {
   "cell_type": "markdown",
   "metadata": {},
   "source": [
    "So apparently there are two types of people in the world: those who cry during movies and those who don't.\n",
    "\n",
    "On the other hand, just about everyone appreciates good manners!"
   ]
  },
  {
   "cell_type": "markdown",
   "metadata": {},
   "source": [
    "Here's where things get interesting. We're going to iterate over each question and see if there are at least 3 other questions that have a correlation of ±0.5 (I'd go higher, but we don't have enough data currently).\n",
    "\n",
    "If there are 3 or more related questions, we'll group them all together and score them from 1-100. As a matter of personal preference, I'll use each question only once. Priority will go to the factor with the highest standard deviation."
   ]
  },
  {
   "cell_type": "code",
   "execution_count": 5,
   "metadata": {
    "collapsed": false
   },
   "outputs": [
    {
     "name": "stdout",
     "output_type": "stream",
     "text": [
      "found 41 personality traits\n"
     ]
    }
   ],
   "source": [
    "from collections import defaultdict\n",
    "\n",
    "# Record which questions go in each factor\n",
    "factors = defaultdict(list)\n",
    "\n",
    "# Use each question only once\n",
    "questions_used = []\n",
    "\n",
    "# Put users' scores in a dataframe\n",
    "df_factors = pd.DataFrame()\n",
    "\n",
    "for question in questions_sorted:\n",
    "    if question not in questions_used:\n",
    "        related = absolute_correlations(\n",
    "            question,\n",
    "            df=data[[i for i in data.columns if i not in questions_used]],\n",
    "            threshold=.50\n",
    "        )        \n",
    "        if len(related) >= 4:\n",
    "            for related_question in related.index:\n",
    "                questions_used.append(related_question)\n",
    "            factors[question].append(related.index)\n",
    "            \n",
    "            pos_items = related[related['correlation'] > 0].index\n",
    "            neg_items = related[related['correlation'] < 0].index\n",
    "            all_items = list(pos_items) + list(neg_items)   \n",
    "\n",
    "            df_factors[question] = (data[pos_items].sum(axis=1) + (8-data[neg_items]).sum(axis=1))/(.07*len(all_items))\n",
    "            \n",
    "print('found', str(df_factors.shape[1]), 'personality traits')"
   ]
  },
  {
   "cell_type": "markdown",
   "metadata": {},
   "source": [
    "We ended up with 41 factors, which isn't far off from the [AB5C personality test](http://ipip.ori.org/newab5ckey.htm) that purports to have 45. So the technique seems to work!\n",
    "\n",
    "But I think there's a way we can improve this further. Perhaps we should prioritize factors that are orthogonal to the ones we've already discovered. So if the 1st factor is the \"cry during movies\" factor, the 2nd one should be one that has a near-zero correlation with the 1st."
   ]
  },
  {
   "cell_type": "code",
   "execution_count": 6,
   "metadata": {
    "collapsed": true
   },
   "outputs": [],
   "source": [
    "def uncorrelated(col, df=data, threshold=100):\n",
    "    '''Similar to absolute_correlations, but now finds uncorrelated items'''\n",
    "    corrs = pd.DataFrame(df.select_dtypes(include=[np.number]).corrwith(df[col]), columns=['correlation'])\n",
    "    corrs['absol'] = np.abs(corrs['correlation'])\n",
    "    \n",
    "    # Default is to return all items sorted by correlation (ascending)\n",
    "    return corrs[corrs.absol < threshold].sort_values('absol', ascending=True).drop('absol', axis=1)"
   ]
  },
  {
   "cell_type": "code",
   "execution_count": 7,
   "metadata": {
    "collapsed": false
   },
   "outputs": [],
   "source": [
    "from collections import defaultdict\n",
    "\n",
    "# Record which questions go in each factor\n",
    "factors = defaultdict(list)\n",
    "\n",
    "# We're no longer going to worry if a question has been used\n",
    "# We're now more interested in validity and reliability than style!\n",
    "questions_used = []\n",
    "\n",
    "# Put users' scores in a dataframe\n",
    "df_factors = pd.DataFrame()\n",
    "\n",
    "th = 0.50\n",
    "lenrel = 4\n",
    "\n",
    "# Seed the dataframe with the first reliable trait\n",
    "for question in questions_sorted:\n",
    "    related = absolute_correlations(\n",
    "        question,\n",
    "        df=data,\n",
    "        threshold=th\n",
    "    )        \n",
    "    if len(related) >= lenrel:\n",
    "        #for related_question in related.index:\n",
    "            #questions_used.append(related_question)\n",
    "        factors[question].append(related.index)\n",
    "\n",
    "        pos_items = related[related['correlation'] > 0].index\n",
    "        neg_items = related[related['correlation'] < 0].index\n",
    "        all_items = list(pos_items) + list(neg_items)   \n",
    "\n",
    "        df_factors[question] = (data[pos_items].sum(axis=1) + (8-data[neg_items]).sum(axis=1))/(.07*len(all_items))\n",
    "        break\n",
    "\n",
    "df_factors.head()"
   ]
  },
  {
   "cell_type": "code",
   "execution_count": 8,
   "metadata": {
    "collapsed": false
   },
   "outputs": [
    {
     "data": {
      "text/html": [
       "<div>\n",
       "<style>\n",
       "    .dataframe thead tr:only-child th {\n",
       "        text-align: right;\n",
       "    }\n",
       "\n",
       "    .dataframe thead th {\n",
       "        text-align: left;\n",
       "    }\n",
       "\n",
       "    .dataframe tbody tr th {\n",
       "        vertical-align: top;\n",
       "    }\n",
       "</style>\n",
       "<table border=\"1\" class=\"dataframe\">\n",
       "  <thead>\n",
       "    <tr style=\"text-align: right;\">\n",
       "      <th></th>\n",
       "      <th>icryduringmovies</th>\n",
       "    </tr>\n",
       "  </thead>\n",
       "  <tbody>\n",
       "    <tr>\n",
       "      <th>0</th>\n",
       "      <td>71.429</td>\n",
       "    </tr>\n",
       "    <tr>\n",
       "      <th>1</th>\n",
       "      <td>14.286</td>\n",
       "    </tr>\n",
       "    <tr>\n",
       "      <th>2</th>\n",
       "      <td>45.714</td>\n",
       "    </tr>\n",
       "    <tr>\n",
       "      <th>3</th>\n",
       "      <td>40.000</td>\n",
       "    </tr>\n",
       "    <tr>\n",
       "      <th>4</th>\n",
       "      <td>14.286</td>\n",
       "    </tr>\n",
       "  </tbody>\n",
       "</table>\n",
       "</div>"
      ],
      "text/plain": [
       "   icryduringmovies\n",
       "0            71.429\n",
       "1            14.286\n",
       "2            45.714\n",
       "3            40.000\n",
       "4            14.286"
      ]
     },
     "execution_count": 8,
     "metadata": {},
     "output_type": "execute_result"
    }
   ],
   "source": [
    "# So far, so good\n",
    "df_factors.head()"
   ]
  },
  {
   "cell_type": "code",
   "execution_count": 9,
   "metadata": {
    "collapsed": false
   },
   "outputs": [
    {
     "name": "stdout",
     "output_type": "stream",
     "text": [
      "Using: ienjoyspendingtimebymyself\n",
      "0.0\n",
      "\n",
      "Using: iamfullofideas\n",
      "0.02\n",
      "\n",
      "Using: iignoremyresponsibilities\n",
      "0.09\n",
      "\n",
      "Using: iwanttobetoldiamright\n",
      "0.14\n",
      "\n",
      "Using: iamnotreallyinterestedinothers\n",
      "0.18\n",
      "\n",
      "Using: idisregardrules\n",
      "0.2\n",
      "\n",
      "Using: ilookatthebrightsideoflife\n",
      "0.26\n",
      "\n",
      "Using: ijokearoundalot\n",
      "0.29\n",
      "\n",
      "Using: ispendtimereflectingonthings\n",
      "0.3\n",
      "\n",
      "Using: iamopenaboutmyfeelings\n",
      "0.3\n",
      "\n"
     ]
    }
   ],
   "source": [
    "corr = 0\n",
    "\n",
    "# Run this until we find a trait that correlates more than 0.3 with an existing one\n",
    "while corr < .30:\n",
    "    next_q = data.corrwith(df_factors[df_factors.columns[-1]])\n",
    "    candidates = pd.DataFrame()\n",
    "    for i in np.abs(next_q).sort_values().index:\n",
    "        related = absolute_correlations(\n",
    "            i,\n",
    "            df=data,\n",
    "            threshold=th)        \n",
    "        if len(related) >= lenrel:\n",
    "            #for related_question in related.index:\n",
    "                #questions_used.append(related_question)\n",
    "\n",
    "            pos_items = related[related['correlation'] > 0].index\n",
    "            neg_items = related[related['correlation'] < 0].index\n",
    "            all_items = list(pos_items) + list(neg_items)\n",
    "            candidates[i] = (data[pos_items].sum(axis=1) + (8-data[neg_items]).sum(axis=1))/(.07*len(all_items))\n",
    "\n",
    "    candidates_scores = {}\n",
    "    for i in candidates.columns:\n",
    "        candidates_scores[i] = np.abs(df_factors.corrwith(candidates[i])).max()\n",
    "\n",
    "    candidates_scores = pd.DataFrame([candidates_scores]).T.sort_values(0)\n",
    "\n",
    "    print('Using:', pd.DataFrame(candidates_scores).index[0])\n",
    "    \n",
    "    corr = candidates_scores.get_value(candidates_scores.index[0], 0)\n",
    "    print(round(corr, 2))\n",
    "    \n",
    "    next_q = data.corrwith(df_factors[df_factors.columns[-1]])\n",
    "    candidates = pd.DataFrame()\n",
    "    for i in candidates_scores.index:\n",
    "        related = absolute_correlations(\n",
    "            i,\n",
    "            df=data, threshold=th)        \n",
    "        if len(related) >= lenrel:\n",
    "            #for related_question in related.index:\n",
    "                #questions_used.append(related_question)\n",
    "            factors[i].append(related.index)\n",
    "\n",
    "            pos_items = related[related['correlation'] > 0].index\n",
    "            neg_items = related[related['correlation'] < 0].index\n",
    "            all_items = list(pos_items) + list(neg_items)\n",
    "            df_factors[i] = (data[pos_items].sum(axis=1) + (8-data[neg_items]).sum(axis=1))/(.07*len(all_items))    \n",
    "            break\n",
    "    if i == candidates_scores.index[-1]:\n",
    "        raise Exception('Could not find any more traits')\n",
    "    \n",
    "    print()"
   ]
  },
  {
   "cell_type": "code",
   "execution_count": 10,
   "metadata": {
    "collapsed": false
   },
   "outputs": [
    {
     "data": {
      "text/html": [
       "<div>\n",
       "<style>\n",
       "    .dataframe thead tr:only-child th {\n",
       "        text-align: right;\n",
       "    }\n",
       "\n",
       "    .dataframe thead th {\n",
       "        text-align: left;\n",
       "    }\n",
       "\n",
       "    .dataframe tbody tr th {\n",
       "        vertical-align: top;\n",
       "    }\n",
       "</style>\n",
       "<table border=\"1\" class=\"dataframe\">\n",
       "  <thead>\n",
       "    <tr style=\"text-align: right;\">\n",
       "      <th></th>\n",
       "      <th>icryduringmovies</th>\n",
       "      <th>ienjoyspendingtimebymyself</th>\n",
       "      <th>iamfullofideas</th>\n",
       "      <th>iignoremyresponsibilities</th>\n",
       "      <th>iwanttobetoldiamright</th>\n",
       "      <th>iamnotreallyinterestedinothers</th>\n",
       "      <th>idisregardrules</th>\n",
       "      <th>ilookatthebrightsideoflife</th>\n",
       "      <th>ijokearoundalot</th>\n",
       "      <th>ispendtimereflectingonthings</th>\n",
       "      <th>iamopenaboutmyfeelings</th>\n",
       "    </tr>\n",
       "  </thead>\n",
       "  <tbody>\n",
       "    <tr>\n",
       "      <th>0</th>\n",
       "      <td>71.429</td>\n",
       "      <td>16.071</td>\n",
       "      <td>45.238</td>\n",
       "      <td>21.429</td>\n",
       "      <td>60.714</td>\n",
       "      <td>25.000</td>\n",
       "      <td>22.857</td>\n",
       "      <td>75.000</td>\n",
       "      <td>57.143</td>\n",
       "      <td>85.714</td>\n",
       "      <td>50.000</td>\n",
       "    </tr>\n",
       "    <tr>\n",
       "      <th>1</th>\n",
       "      <td>14.286</td>\n",
       "      <td>82.143</td>\n",
       "      <td>100.000</td>\n",
       "      <td>14.286</td>\n",
       "      <td>82.143</td>\n",
       "      <td>82.143</td>\n",
       "      <td>62.857</td>\n",
       "      <td>67.857</td>\n",
       "      <td>78.571</td>\n",
       "      <td>100.000</td>\n",
       "      <td>82.143</td>\n",
       "    </tr>\n",
       "    <tr>\n",
       "      <th>2</th>\n",
       "      <td>45.714</td>\n",
       "      <td>82.143</td>\n",
       "      <td>61.905</td>\n",
       "      <td>21.429</td>\n",
       "      <td>67.857</td>\n",
       "      <td>35.714</td>\n",
       "      <td>48.571</td>\n",
       "      <td>60.714</td>\n",
       "      <td>82.143</td>\n",
       "      <td>88.571</td>\n",
       "      <td>57.143</td>\n",
       "    </tr>\n",
       "    <tr>\n",
       "      <th>3</th>\n",
       "      <td>40.000</td>\n",
       "      <td>57.143</td>\n",
       "      <td>64.286</td>\n",
       "      <td>14.286</td>\n",
       "      <td>57.143</td>\n",
       "      <td>42.857</td>\n",
       "      <td>17.143</td>\n",
       "      <td>85.714</td>\n",
       "      <td>57.143</td>\n",
       "      <td>71.429</td>\n",
       "      <td>78.571</td>\n",
       "    </tr>\n",
       "    <tr>\n",
       "      <th>4</th>\n",
       "      <td>14.286</td>\n",
       "      <td>62.500</td>\n",
       "      <td>97.619</td>\n",
       "      <td>17.857</td>\n",
       "      <td>32.143</td>\n",
       "      <td>35.714</td>\n",
       "      <td>20.000</td>\n",
       "      <td>89.286</td>\n",
       "      <td>46.429</td>\n",
       "      <td>91.429</td>\n",
       "      <td>53.571</td>\n",
       "    </tr>\n",
       "  </tbody>\n",
       "</table>\n",
       "</div>"
      ],
      "text/plain": [
       "   icryduringmovies  ienjoyspendingtimebymyself  iamfullofideas  \\\n",
       "0            71.429                      16.071          45.238   \n",
       "1            14.286                      82.143         100.000   \n",
       "2            45.714                      82.143          61.905   \n",
       "3            40.000                      57.143          64.286   \n",
       "4            14.286                      62.500          97.619   \n",
       "\n",
       "   iignoremyresponsibilities  iwanttobetoldiamright  \\\n",
       "0                     21.429                 60.714   \n",
       "1                     14.286                 82.143   \n",
       "2                     21.429                 67.857   \n",
       "3                     14.286                 57.143   \n",
       "4                     17.857                 32.143   \n",
       "\n",
       "   iamnotreallyinterestedinothers  idisregardrules  \\\n",
       "0                          25.000           22.857   \n",
       "1                          82.143           62.857   \n",
       "2                          35.714           48.571   \n",
       "3                          42.857           17.143   \n",
       "4                          35.714           20.000   \n",
       "\n",
       "   ilookatthebrightsideoflife  ijokearoundalot  ispendtimereflectingonthings  \\\n",
       "0                      75.000           57.143                        85.714   \n",
       "1                      67.857           78.571                       100.000   \n",
       "2                      60.714           82.143                        88.571   \n",
       "3                      85.714           57.143                        71.429   \n",
       "4                      89.286           46.429                        91.429   \n",
       "\n",
       "   iamopenaboutmyfeelings  \n",
       "0                  50.000  \n",
       "1                  82.143  \n",
       "2                  57.143  \n",
       "3                  78.571  \n",
       "4                  53.571  "
      ]
     },
     "execution_count": 10,
     "metadata": {},
     "output_type": "execute_result"
    }
   ],
   "source": [
    "df_factors.head()"
   ]
  },
  {
   "cell_type": "markdown",
   "metadata": {},
   "source": [
    "Now let's take a look at the factors we identified:"
   ]
  },
  {
   "cell_type": "code",
   "execution_count": 11,
   "metadata": {
    "collapsed": false
   },
   "outputs": [
    {
     "name": "stdout",
     "output_type": "stream",
     "text": [
      "1. icryduringmovies\n",
      "- icryduringmovies\n",
      "- iameasilymovedtotears\n",
      "- icryeasily\n",
      "- ihavecryingfits\n",
      "- iburstintotears\n",
      "\n",
      "2. ienjoyspendingtimebymyself\n",
      "- ienjoyspendingtimebymyself\n",
      "- iliketobealone\n",
      "- iprefertobealone\n",
      "- ienjoysilence\n",
      "- iwanttobeleftalone\n",
      "- iseekquiet\n",
      "- igomyownway\n",
      "- idontmindeatingalone\n",
      "\n",
      "3. iamfullofideas\n",
      "- iamfullofideas\n",
      "- iquicklythinkupnewideas\n",
      "- ihaveexcellentideas\n",
      "- icantcomeupwithnewideas\n",
      "- icomeupwithboldplans\n",
      "- idonothaveagoodimagination\n",
      "\n",
      "4. iignoremyresponsibilities\n",
      "- iignoremyresponsibilities\n",
      "- ineglectmyduties\n",
      "- iaccomplishmyworkontime\n",
      "- idonotplanahead\n",
      "\n",
      "5. iwanttobetoldiamright\n",
      "- iwanttobetoldiamright\n",
      "- iwantthingsdonemyway\n",
      "- ifeelcrushedbysetbacks\n",
      "- itrytoimpressothers\n",
      "\n",
      "6. iamnotreallyinterestedinothers\n",
      "- iamnotreallyinterestedinothers\n",
      "- iamnotinterestedinotherpeoplesproblems\n",
      "- iaminterestedinpeople\n",
      "- itakeaninterestinotherpeopleslives\n",
      "\n",
      "7. idisregardrules\n",
      "- idisregardrules\n",
      "- idontcareaboutrules\n",
      "- ibreakrules\n",
      "- itrytofollowtherules\n",
      "- iopposeauthority\n",
      "\n",
      "8. ilookatthebrightsideoflife\n",
      "- ilookatthebrightsideoflife\n",
      "- ilovelife\n",
      "- iradiatejoy\n",
      "- idislikemyself\n",
      "\n",
      "9. ijokearoundalot\n",
      "- ijokearoundalot\n",
      "- ienjoycrudejokes\n",
      "- iliketoamuseothers\n",
      "- ilaughattheslightestprovocation\n",
      "\n",
      "10. ispendtimereflectingonthings\n",
      "- ispendtimereflectingonthings\n",
      "- ithinkdeeplyaboutthings\n",
      "- ilovetoreflectonthings\n",
      "- itaketimetoreflectonthings\n",
      "- ienjoythinkingaboutthings\n",
      "\n",
      "11. iamopenaboutmyfeelings\n",
      "- iamopenaboutmyfeelings\n",
      "- iamopenaboutmyselftoothers\n",
      "- ishowmyfeelings\n",
      "- iexpressmyselfeasily\n",
      "\n"
     ]
    }
   ],
   "source": [
    "for num, top in enumerate(factors):\n",
    "    print(str(num+1)+'. ' + top)\n",
    "    for list_ in factors[top]:\n",
    "        for question in list_:\n",
    "            print('-', question)\n",
    "    print()"
   ]
  },
  {
   "cell_type": "markdown",
   "metadata": {},
   "source": [
    "You'll notice they're sensibly calculated and do indeed seem fairly different from one another!\n",
    "\n",
    "Now let's do a little housekeeping and rename each trait. I'll use words that best capture the essence of what we're measuring."
   ]
  },
  {
   "cell_type": "code",
   "execution_count": 12,
   "metadata": {
    "collapsed": false
   },
   "outputs": [],
   "source": [
    "df_factors.columns =\\\n",
    "'''sensitivity\n",
    "enjoyment_of_solitude\n",
    "ingenuity\n",
    "irresponsibility\n",
    "bossiness\n",
    "self-centeredness\n",
    "rebeliousness\n",
    "optimism\n",
    "joviality\n",
    "reflectiveness\n",
    "transparency'''.split('\\n')"
   ]
  },
  {
   "cell_type": "code",
   "execution_count": 13,
   "metadata": {
    "collapsed": false
   },
   "outputs": [
    {
     "data": {
      "text/html": [
       "<div>\n",
       "<style>\n",
       "    .dataframe thead tr:only-child th {\n",
       "        text-align: right;\n",
       "    }\n",
       "\n",
       "    .dataframe thead th {\n",
       "        text-align: left;\n",
       "    }\n",
       "\n",
       "    .dataframe tbody tr th {\n",
       "        vertical-align: top;\n",
       "    }\n",
       "</style>\n",
       "<table border=\"1\" class=\"dataframe\">\n",
       "  <thead>\n",
       "    <tr style=\"text-align: right;\">\n",
       "      <th></th>\n",
       "      <th>sensitivity</th>\n",
       "      <th>enjoyment_of_solitude</th>\n",
       "      <th>ingenuity</th>\n",
       "      <th>irresponsibility</th>\n",
       "      <th>bossiness</th>\n",
       "      <th>self-centeredness</th>\n",
       "      <th>rebeliousness</th>\n",
       "      <th>optimism</th>\n",
       "      <th>joviality</th>\n",
       "      <th>reflectiveness</th>\n",
       "      <th>transparency</th>\n",
       "    </tr>\n",
       "  </thead>\n",
       "  <tbody>\n",
       "    <tr>\n",
       "      <th>0</th>\n",
       "      <td>71.429</td>\n",
       "      <td>16.071</td>\n",
       "      <td>45.238</td>\n",
       "      <td>21.429</td>\n",
       "      <td>60.714</td>\n",
       "      <td>25.000</td>\n",
       "      <td>22.857</td>\n",
       "      <td>75.000</td>\n",
       "      <td>57.143</td>\n",
       "      <td>85.714</td>\n",
       "      <td>50.000</td>\n",
       "    </tr>\n",
       "    <tr>\n",
       "      <th>1</th>\n",
       "      <td>14.286</td>\n",
       "      <td>82.143</td>\n",
       "      <td>100.000</td>\n",
       "      <td>14.286</td>\n",
       "      <td>82.143</td>\n",
       "      <td>82.143</td>\n",
       "      <td>62.857</td>\n",
       "      <td>67.857</td>\n",
       "      <td>78.571</td>\n",
       "      <td>100.000</td>\n",
       "      <td>82.143</td>\n",
       "    </tr>\n",
       "    <tr>\n",
       "      <th>2</th>\n",
       "      <td>45.714</td>\n",
       "      <td>82.143</td>\n",
       "      <td>61.905</td>\n",
       "      <td>21.429</td>\n",
       "      <td>67.857</td>\n",
       "      <td>35.714</td>\n",
       "      <td>48.571</td>\n",
       "      <td>60.714</td>\n",
       "      <td>82.143</td>\n",
       "      <td>88.571</td>\n",
       "      <td>57.143</td>\n",
       "    </tr>\n",
       "    <tr>\n",
       "      <th>3</th>\n",
       "      <td>40.000</td>\n",
       "      <td>57.143</td>\n",
       "      <td>64.286</td>\n",
       "      <td>14.286</td>\n",
       "      <td>57.143</td>\n",
       "      <td>42.857</td>\n",
       "      <td>17.143</td>\n",
       "      <td>85.714</td>\n",
       "      <td>57.143</td>\n",
       "      <td>71.429</td>\n",
       "      <td>78.571</td>\n",
       "    </tr>\n",
       "    <tr>\n",
       "      <th>4</th>\n",
       "      <td>14.286</td>\n",
       "      <td>62.500</td>\n",
       "      <td>97.619</td>\n",
       "      <td>17.857</td>\n",
       "      <td>32.143</td>\n",
       "      <td>35.714</td>\n",
       "      <td>20.000</td>\n",
       "      <td>89.286</td>\n",
       "      <td>46.429</td>\n",
       "      <td>91.429</td>\n",
       "      <td>53.571</td>\n",
       "    </tr>\n",
       "  </tbody>\n",
       "</table>\n",
       "</div>"
      ],
      "text/plain": [
       "   sensitivity  enjoyment_of_solitude  ingenuity  irresponsibility  bossiness  \\\n",
       "0       71.429                 16.071     45.238            21.429     60.714   \n",
       "1       14.286                 82.143    100.000            14.286     82.143   \n",
       "2       45.714                 82.143     61.905            21.429     67.857   \n",
       "3       40.000                 57.143     64.286            14.286     57.143   \n",
       "4       14.286                 62.500     97.619            17.857     32.143   \n",
       "\n",
       "   self-centeredness  rebeliousness  optimism  joviality  reflectiveness  \\\n",
       "0             25.000         22.857    75.000     57.143          85.714   \n",
       "1             82.143         62.857    67.857     78.571         100.000   \n",
       "2             35.714         48.571    60.714     82.143          88.571   \n",
       "3             42.857         17.143    85.714     57.143          71.429   \n",
       "4             35.714         20.000    89.286     46.429          91.429   \n",
       "\n",
       "   transparency  \n",
       "0        50.000  \n",
       "1        82.143  \n",
       "2        57.143  \n",
       "3        78.571  \n",
       "4        53.571  "
      ]
     },
     "execution_count": 13,
     "metadata": {},
     "output_type": "execute_result"
    }
   ],
   "source": [
    "df_factors.head()"
   ]
  },
  {
   "cell_type": "markdown",
   "metadata": {},
   "source": [
    "I'm pretty satisfied with these labels, but some of them aren't perfect. For example, I thought of perhaps using \"assertiveness\" or \"dominance\" instead of \"bossiness,\" but the former words seemed a bit too positive for a trait that measures whether you \"want to be told you're right.\" \n",
    "\n",
    "Before wrapping up, let's take a look at the correlations between the traits we identified."
   ]
  },
  {
   "cell_type": "code",
   "execution_count": 14,
   "metadata": {
    "collapsed": false
   },
   "outputs": [
    {
     "data": {
      "text/plain": [
       "<matplotlib.axes._subplots.AxesSubplot at 0x27b3042a588>"
      ]
     },
     "execution_count": 14,
     "metadata": {},
     "output_type": "execute_result"
    },
    {
     "data": {
      "image/png": "[encoded data removed]",
      "text/plain": [
       "<matplotlib.figure.Figure at 0x27b32a13588>"
      ]
     },
     "metadata": {},
     "output_type": "display_data"
    }
   ],
   "source": [
    "# Generate a mask for the upper triangle\n",
    "mask = np.zeros_like(df_factors.corr(), dtype=np.bool)\n",
    "mask[np.triu_indices_from(mask)] = True\n",
    "\n",
    "# Resize and display\n",
    "plt.figure(figsize=(14,8))\n",
    "sns.heatmap(df_factors.corr(), annot=True, fmt='.2f', mask=mask, cmap='seismic_r')"
   ]
  },
  {
   "cell_type": "markdown",
   "metadata": {},
   "source": [
    "I'm really pleased with this! Just as I planned, none of the correlations are above 0.30. These traits are indeed fairly independent of one another!"
   ]
  }
 ],
 "metadata": {
  "anaconda-cloud": {},
  "kernelspec": {
   "display_name": "Python 3",
   "language": "python",
   "name": "python3"
  },
  "language_info": {
   "codemirror_mode": {
    "name": "ipython",
    "version": 3
   },
   "file_extension": ".py",
   "mimetype": "text/x-python",
   "name": "python",
   "nbconvert_exporter": "python",
   "pygments_lexer": "ipython3",
   "version": "3.6.0"
  }
 },
 "nbformat": 4,
 "nbformat_minor": 2
}
